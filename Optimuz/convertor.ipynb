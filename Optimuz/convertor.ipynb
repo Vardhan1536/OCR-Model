{
 "cells": [
  {
   "cell_type": "code",
   "execution_count": 1,
   "id": "5f810bca-1f97-46d8-85c0-58571400cf23",
   "metadata": {
    "tags": []
   },
   "outputs": [
    {
     "name": "stdout",
     "output_type": "stream",
     "text": [
      "Requirement already satisfied: pandas in /home/ec2-user/anaconda3/envs/python3/lib/python3.10/site-packages (2.2.2)\n",
      "Requirement already satisfied: openpyxl in /home/ec2-user/anaconda3/envs/python3/lib/python3.10/site-packages (3.1.4)\n",
      "Requirement already satisfied: numpy>=1.22.4 in /home/ec2-user/anaconda3/envs/python3/lib/python3.10/site-packages (from pandas) (1.22.4)\n",
      "Requirement already satisfied: python-dateutil>=2.8.2 in /home/ec2-user/anaconda3/envs/python3/lib/python3.10/site-packages (from pandas) (2.9.0)\n",
      "Requirement already satisfied: pytz>=2020.1 in /home/ec2-user/anaconda3/envs/python3/lib/python3.10/site-packages (from pandas) (2024.1)\n",
      "Requirement already satisfied: tzdata>=2022.7 in /home/ec2-user/anaconda3/envs/python3/lib/python3.10/site-packages (from pandas) (2024.1)\n",
      "Requirement already satisfied: et-xmlfile in /home/ec2-user/anaconda3/envs/python3/lib/python3.10/site-packages (from openpyxl) (1.1.0)\n",
      "Requirement already satisfied: six>=1.5 in /home/ec2-user/anaconda3/envs/python3/lib/python3.10/site-packages (from python-dateutil>=2.8.2->pandas) (1.16.0)\n"
     ]
    }
   ],
   "source": [
    "!pip install pandas openpyxl\n"
   ]
  },
  {
   "cell_type": "code",
   "execution_count": 3,
   "id": "5eb08114-4d15-4f38-b347-941a40e05ad8",
   "metadata": {
    "tags": []
   },
   "outputs": [
    {
     "name": "stdin",
     "output_type": "stream",
     "text": [
      "Enter the path to the JSON file:  ocr_output.json\n",
      "Enter 'xlsx' to convert to XLSX or 'csv' to convert to CSV:  csv\n",
      "Enter the output file name (without extension):  tanmayi\n"
     ]
    },
    {
     "name": "stdout",
     "output_type": "stream",
     "text": [
      "Converted to tanmayi.csv successfully.\n"
     ]
    }
   ],
   "source": [
    "import pandas as pd\n",
    "import json\n",
    "\n",
    "def convert_json_to_xlsx(json_file, output_file):\n",
    "    # Load the JSON file\n",
    "    with open(json_file, 'r') as file:\n",
    "        data = json.load(file)\n",
    "    \n",
    "    # Convert to DataFrame\n",
    "    df = pd.DataFrame(data)\n",
    "    \n",
    "    # Save to Excel\n",
    "    df.to_excel(output_file, index=False)\n",
    "\n",
    "def convert_json_to_csv(json_file, output_file):\n",
    "    # Load the JSON file\n",
    "    with open(json_file, 'r') as file:\n",
    "        data = json.load(file)\n",
    "    \n",
    "    # Convert to DataFrame\n",
    "    df = pd.DataFrame(data)\n",
    "    \n",
    "    # Save to CSV\n",
    "    df.to_csv(output_file, index=False)\n",
    "\n",
    "def main():\n",
    "    json_file = input(\"Enter the path to the JSON file: \")\n",
    "    output_format = input(\"Enter 'xlsx' to convert to XLSX or 'csv' to convert to CSV: \").strip().lower()\n",
    "    \n",
    "    if output_format not in ['xlsx', 'csv']:\n",
    "        print(\"Invalid format selected. Please enter 'xlsx' or 'csv'.\")\n",
    "        return\n",
    "\n",
    "    output_file = input(\"Enter the output file name (without extension): \")\n",
    "    output_file += f\".{output_format}\"\n",
    "    \n",
    "    if output_format == 'xlsx':\n",
    "        convert_json_to_xlsx(json_file, output_file)\n",
    "        print(f\"Converted to {output_file} successfully.\")\n",
    "    elif output_format == 'csv':\n",
    "        convert_json_to_csv(json_file, output_file)\n",
    "        print(f\"Converted to {output_file} successfully.\")\n",
    "\n",
    "if __name__ == \"__main__\":\n",
    "    main()\n"
   ]
  },
  {
   "cell_type": "code",
   "execution_count": null,
   "id": "065dd825-f91f-41d8-a38d-7b2eb0e20cc4",
   "metadata": {},
   "outputs": [],
   "source": []
  }
 ],
 "metadata": {
  "kernelspec": {
   "display_name": "conda_python3",
   "language": "python",
   "name": "conda_python3"
  },
  "language_info": {
   "codemirror_mode": {
    "name": "ipython",
    "version": 3
   },
   "file_extension": ".py",
   "mimetype": "text/x-python",
   "name": "python",
   "nbconvert_exporter": "python",
   "pygments_lexer": "ipython3",
   "version": "3.10.14"
  }
 },
 "nbformat": 4,
 "nbformat_minor": 5
}
