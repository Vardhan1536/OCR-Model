{
 "cells": [
  {
   "cell_type": "code",
   "execution_count": null,
   "id": "f1a1e210-dea4-4a45-92b9-4245ed032a6e",
   "metadata": {},
   "outputs": [],
   "source": [
    "from PIL import Image\n",
    "img_dir= './local-folder'\n",
    "output_dir = './compressed_Images'\n",
    "input_image_path = 'sample1.jp'  # Replace with your image file path\n",
    "output_image_path = '/kaggle/workingcompressed_image.jpg'  # Replace with your desired output path\n",
    "Image.MAX_IMAGE_PIXELS = None\n",
    "# Load the image\n",
    "img = Image.open(input_image_path)\n",
    "\n",
    "# Target resolution for 4K (3840x2160)\n",
    "target_resolution = (3840, 2160)\n",
    "\n",
    "# Resize the image\n",
    "resized_img = img.resize(target_resolution, Image.Resampling.LANCZOS)\n",
    "\n",
    "# Save the compressed image\n",
    "resized_img.save(output_image_path)\n",
    "\n",
    "print(f\"Image successfully resized to {target_resolution} and saved as {output_image_path}\")"
   ]
  },
  {
   "cell_type": "code",
   "execution_count": 3,
   "id": "648ee34a-f906-4169-bfbc-526908179864",
   "metadata": {
    "tags": []
   },
   "outputs": [
    {
     "name": "stdout",
     "output_type": "stream",
     "text": [
      "Resized image saved as ./compressed_Image/sample2.jpg\n",
      "Resized image saved as ./compressed_Image/sample1.jpg\n",
      "Resized image saved as ./compressed_Image/sample3.jpg\n",
      "All images resized successfully!\n"
     ]
    }
   ],
   "source": [
    "import os\n",
    "from PIL import Image\n",
    "\n",
    "# Allow large images by increasing the max image pixels limit\n",
    "Image.MAX_IMAGE_PIXELS = None\n",
    "\n",
    "# Define input and output directories\n",
    "input_dir ='/home/ec2-user/local-folder'  # Replace with your input directory path\n",
    "output_dir = './compressed_Image'  # Replace with your output directory path\n",
    "\n",
    "# Ensure the output directory exists\n",
    "if not os.path.exists(output_dir):\n",
    "    os.makedirs(output_dir)\n",
    "\n",
    "# Target resolution for 4K (3840x2160)\n",
    "target_resolution = (3840, 2160)\n",
    "\n",
    "# Process each image in the input directory\n",
    "for filename in os.listdir(input_dir):\n",
    "    if filename.endswith(('.jpg', '.jpeg', '.png', '.bmp', '.tiff')):  # Add more extensions as needed\n",
    "        input_image_path = os.path.join(input_dir, filename)\n",
    "        output_image_path = os.path.join(output_dir, filename)\n",
    "\n",
    "        # Open the image file\n",
    "        img = Image.open(input_image_path)\n",
    "\n",
    "        # Resize the image using the LANCZOS filter for high quality\n",
    "        resized_img = img.resize(target_resolution, Image.Resampling.LANCZOS)\n",
    "\n",
    "        # Save the compressed image to the output directory\n",
    "        resized_img.save(output_image_path)\n",
    "\n",
    "        print(f\"Resized image saved as {output_image_path}\")\n",
    "\n",
    "print(\"All images resized successfully!\")\n"
   ]
  },
  {
   "cell_type": "code",
   "execution_count": null,
   "id": "cfe83a2c-e78d-4cd0-80fe-7db5cf9b1fa3",
   "metadata": {},
   "outputs": [],
   "source": []
  }
 ],
 "metadata": {
  "kernelspec": {
   "display_name": "conda_pytorch_p310",
   "language": "python",
   "name": "conda_pytorch_p310"
  },
  "language_info": {
   "codemirror_mode": {
    "name": "ipython",
    "version": 3
   },
   "file_extension": ".py",
   "mimetype": "text/x-python",
   "name": "python",
   "nbconvert_exporter": "python",
   "pygments_lexer": "ipython3",
   "version": "3.10.14"
  }
 },
 "nbformat": 4,
 "nbformat_minor": 5
}
